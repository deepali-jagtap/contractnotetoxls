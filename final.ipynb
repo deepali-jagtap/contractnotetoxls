{
 "cells": [
  {
   "cell_type": "code",
   "execution_count": 5,
   "id": "32125b24",
   "metadata": {},
   "outputs": [
    {
     "name": "stdout",
     "output_type": "stream",
     "text": [
      "Table 3 on page 8 meets the criteria.\n",
      "=================================\n",
      "[['Segment', 'Security description', 'Quantity\\nBought for you', 'Quantity Sold\\nfor you', 'Total gross\\n(Rs.)', 'Average rate\\n(Rs.)', 'Brokerage\\n(Total)', '**GST on\\nBrokerage (Rs.)', 'Total Security\\nTransaction\\nTax(Rs.)', 'Other\\nStatutory\\n*Levies(Rs.)', 'Net Amount\\n(Rs.)'], ['Equity', 'ANGEL ONE LIMITED-MTF-INE732I0\\n1013', '100', '0', '262839.45', '2628.39', '262.86', '47.30', '262.88', '49.22', '263461.71'], ['', 'BSE LIMITED-MTF-INE118H01025', '0', '50', '202087.95', '4041.76', '202.09', '36.38', '202.09', '7.52', '201639.87']]\n",
      "Table 2 on page 9 meets the criteria.\n",
      "=================================\n",
      "[['Segment', 'Security description', 'Quantity\\nBought for you', 'Quantity Sold\\nfor you', 'Total gross\\n(Rs.)', 'Average rate\\n(Rs.)', 'Brokerage\\n(Total)', '**GST on\\nBrokerage (Rs.)', 'Total Security\\nTransaction\\nTax(Rs.)', 'Other\\nStatutory\\n*Levies(Rs.)', 'Net Amount\\n(Rs.)'], ['', 'HFCL LIMITED-Cash-INE548A01028', '0', '2500', '421264.57', '168.51', '421.26', '75.86', '421.27', '15.74', '420330.44'], ['', 'JIO FINANCIAL SERVICES LIMITED\\n-Cash-INE758E01017', '500', '0', '178000.00', '356.00', '178.00', '32.04', '178.00', '33.36', '178421.4'], ['', 'NDR AUTO COMPONENTS LTD-Cash-I\\nNE07OG01012', '0', '100', '181506.40', '1815.06', '181.52', '32.66', '181.52', '6.83', '181103.87'], ['', 'SAMVARDHANA MOTHERSON INTERNAT\\nIONAL LIMI-MTF-INE775A01035', '500', '0', '103947.45', '207.89', '103.96', '18.70', '103.95', '19.46', '104193.52'], ['Derivative', 'OPTIDX-NIFTY -26SEP2024-CE\\n-25750.0000 -0', '0', '50', '12000.00', '240.00', '20.00', '3.60', '7.50', '4.25', '11964.65'], ['', 'OPTSTK-HAL -31OCT2024-CE\\n-5500.0000 -0', '0', '300', '4125.00', '13.75', '20.00', '3.60', '2.58', '1.46', '4097.36']]\n",
      "Table 2 on page 10 meets the criteria.\n",
      "=================================\n",
      "[['Segment', 'Security description', 'Quantity\\nBought for you', 'Quantity Sold\\nfor you', 'Total gross\\n(Rs.)', 'Average rate\\n(Rs.)', 'Brokerage\\n(Total)', '**GST on\\nBrokerage (Rs.)', 'Total Security\\nTransaction\\nTax(Rs.)', 'Other\\nStatutory\\n*Levies(Rs.)', 'Net Amount\\n(Rs.)'], ['', 'OPTSTK-HDFCBANK -26SEP2024-CE\\n-1750.0000 -0', '0', '550', '9267.50', '16.85', '20.00', '3.60', '5.79', '3.29', '9234.82'], ['', 'OPTSTK-RELIANCE -26SEP2024-CE\\n-2980.0000 -0', '0', '250', '8600.00', '34.40', '20.00', '3.60', '5.38', '3.05', '8567.97'], ['Total', None, '', '', '1383638.32', '', '1429.69', '257.34', '1371.00', '144.18', '290862.35']]\n",
      "Exported table 1 to table_1.csv\n",
      "Exported table 2 to table_2.csv\n",
      "Exported table 3 to table_3.csv\n"
     ]
    }
   ],
   "source": [
    "import pdfplumber\n",
    "import pandas as pd\n",
    "import re\n",
    "\n",
    "# Function to clean values based on regex pattern\n",
    "def clean_value(value):\n",
    "    # Check if the value is a string and matches the pattern\n",
    "    if isinstance(value, str):\n",
    "        # Remove parentheses if they enclose a number\n",
    "        return re.sub(r'\\(([\\d.,]+)\\)', r'\\1', value)\n",
    "    return value  # Return the value unchanged if it's not a string\n",
    "\n",
    "# Open the PDF file\n",
    "with pdfplumber.open(\"decrypted.pdf\") as pdf:\n",
    "    filtered_tables = []\n",
    "\n",
    "    # Loop through each page\n",
    "    for page_number, page in enumerate(pdf.pages, start=1):\n",
    "        tables = page.extract_tables()\n",
    "\n",
    "        # Loop through each table in the page\n",
    "        for table_idx, table in enumerate(tables):\n",
    "            if table:  # Check if table is not empty\n",
    "                header = table[0]  # Assuming first row is the header\n",
    "\n",
    "                # Check if the header contains a column named 'Segment' and has 11 columns\n",
    "                if \"Segment\" in header and len(header) == 11:\n",
    "                    # Filter rows with exactly 11 columns\n",
    "                    filtered_table = [row for row in table if len(row) == 11]\n",
    "\n",
    "                    # Remove rows that contain \"Sub Total\"\n",
    "                    filtered_table = [row for row in filtered_table if \"Sub Total\" not in row]\n",
    "\n",
    "                    # Apply the cleaning function to all values in the filtered table\n",
    "                    filtered_table = [[clean_value(cell) for cell in row] for row in filtered_table]\n",
    "\n",
    "                    # Only append the table if rows still remain after filtering\n",
    "                    if filtered_table:\n",
    "                        filtered_tables.append(filtered_table)\n",
    "                        print(f\"Table {table_idx+1} on page {page_number} meets the criteria.\")\n",
    "                        #print(\"=================================\")\n",
    "                        #print(filtered_table)\n",
    "\n",
    "    if not filtered_tables:\n",
    "        print(\"No tables with the specified criteria found in the document.\")\n",
    "\n",
    "# Export each filtered table to a CSV file using pandas\n",
    "for idx, table in enumerate(filtered_tables):\n",
    "    df = pd.DataFrame(table[1:], columns=table[0])  # Convert to DataFrame with header\n",
    "    csv_filename = f\"table_{idx+1}.csv\"  # Unique filename for each table\n",
    "    df.to_csv(csv_filename, index=False, encoding='utf-8')  # Export DataFrame to CSV\n",
    "    print(f\"Exported table {idx+1} to {csv_filename}\")\n"
   ]
  },
  {
   "cell_type": "markdown",
   "id": "06b1e171",
   "metadata": {},
   "source": []
  },
  {
   "cell_type": "code",
   "execution_count": null,
   "id": "2cf7ce74",
   "metadata": {},
   "outputs": [],
   "source": []
  },
  {
   "cell_type": "code",
   "execution_count": null,
   "id": "220de74f",
   "metadata": {},
   "outputs": [],
   "source": []
  }
 ],
 "metadata": {
  "kernelspec": {
   "display_name": "Python 3 (ipykernel)",
   "language": "python",
   "name": "python3"
  },
  "language_info": {
   "codemirror_mode": {
    "name": "ipython",
    "version": 3
   },
   "file_extension": ".py",
   "mimetype": "text/x-python",
   "name": "python",
   "nbconvert_exporter": "python",
   "pygments_lexer": "ipython3",
   "version": "3.11.4"
  }
 },
 "nbformat": 4,
 "nbformat_minor": 5
}
